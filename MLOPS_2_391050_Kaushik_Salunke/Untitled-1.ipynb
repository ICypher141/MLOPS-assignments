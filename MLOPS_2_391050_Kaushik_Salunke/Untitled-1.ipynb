{
 "cells": [
  {
   "cell_type": "code",
   "execution_count": 1,
   "metadata": {},
   "outputs": [],
   "source": [
    "import pandas as pd\n",
    "from sklearn.linear_model import LinearRegression\n",
    "from sklearn.model_selection import train_test_split\n",
    "from sklearn.preprocessing import StandardScaler\n",
    "\n",
    "class HousePricePredictor:\n",
    "    def __init__(self):\n",
    "        self.model = LinearRegression()\n",
    "        self.scaler = StandardScaler()\n",
    "\n",
    "    def load_and_preprocess_data(self, path):\n",
    "        # Load dataset\n",
    "        data = pd.read_csv(path)\n",
    "\n",
    "        # Feature selection\n",
    "        features = ['OverallQual', 'GrLivArea', 'GarageCars', 'TotalBsmtSF', 'FullBath', 'YearBuilt']\n",
    "        X = data[features]\n",
    "        y = data['SalePrice']\n",
    "\n",
    "        # Handle missing values\n",
    "        X = X.fillna(X.mean())\n",
    "\n",
    "        # Split the data\n",
    "        X_train, X_test, y_train, y_test = train_test_split(X, y, test_size=0.2, random_state=42)\n",
    "\n",
    "        # Feature scaling\n",
    "        self.scaler.fit(X_train)\n",
    "        X_train = self.scaler.transform(X_train)\n",
    "\n",
    "        # Train the model\n",
    "        self.model.fit(X_train, y_train)\n",
    "\n",
    "    def predict(self, features):\n",
    "        # Transform the features using the same scaler\n",
    "        features = self.scaler.transform([features])\n",
    "        return self.model.predict(features)[0]\n",
    "\n",
    "# Instantiate the model and load the data\n",
    "predictor = HousePricePredictor()\n",
    "predictor.load_and_preprocess_data('house_prices.csv')  # Replace with the correct path to your dataset\n"
   ]
  },
  {
   "cell_type": "code",
   "execution_count": null,
   "metadata": {},
   "outputs": [
    {
     "name": "stderr",
     "output_type": "stream",
     "text": [
      "INFO:     Started server process [13836]\n",
      "INFO:     Waiting for application startup.\n",
      "INFO:     Application startup complete.\n",
      "INFO:     Uvicorn running on http://127.0.0.1:8010 (Press CTRL+C to quit)\n"
     ]
    },
    {
     "name": "stdout",
     "output_type": "stream",
     "text": [
      "INFO:     127.0.0.1:52733 - \"POST /predict HTTP/1.1\" 200 OK\n"
     ]
    },
    {
     "name": "stderr",
     "output_type": "stream",
     "text": [
      "c:\\Users\\kaush\\AppData\\Local\\Programs\\Python\\Python312\\Lib\\site-packages\\sklearn\\base.py:493: UserWarning: X does not have valid feature names, but StandardScaler was fitted with feature names\n",
      "  warnings.warn(\n"
     ]
    }
   ],
   "source": [
    "import nest_asyncio\n",
    "import uvicorn\n",
    "from fastapi import FastAPI, HTTPException\n",
    "from pydantic import BaseModel\n",
    "import pandas as pd\n",
    "from sklearn.linear_model import LinearRegression\n",
    "from sklearn.model_selection import train_test_split\n",
    "from sklearn.preprocessing import StandardScaler\n",
    "\n",
    "# Apply nest_asyncio\n",
    "nest_asyncio.apply()\n",
    "\n",
    "# Define the HousePricePredictor class\n",
    "class HousePricePredictor:\n",
    "    def __init__(self):\n",
    "        self.model = LinearRegression()\n",
    "        self.scaler = StandardScaler()\n",
    "\n",
    "    def load_and_preprocess_data(self, path):\n",
    "        data = pd.read_csv(path)\n",
    "        features = ['OverallQual', 'GrLivArea', 'GarageCars', 'TotalBsmtSF', 'FullBath', 'YearBuilt']\n",
    "        X = data[features]\n",
    "        y = data['SalePrice']\n",
    "        X = X.fillna(X.mean())\n",
    "        X_train, X_test, y_train, y_test = train_test_split(X, y, test_size=0.2, random_state=42)\n",
    "        self.scaler.fit(X_train)\n",
    "        X_train = self.scaler.transform(X_train)\n",
    "        self.model.fit(X_train, y_train)\n",
    "\n",
    "    def predict(self, features):\n",
    "        features = self.scaler.transform([features])\n",
    "        return self.model.predict(features)[0]\n",
    "\n",
    "# Instantiate and prepare the model\n",
    "predictor = HousePricePredictor()\n",
    "predictor.load_and_preprocess_data('house_prices.csv')  # Replace with your dataset path\n",
    "\n",
    "# Create FastAPI instance\n",
    "app = FastAPI()\n",
    "\n",
    "# Define the Pydantic model for input validation\n",
    "class HouseFeatures(BaseModel):\n",
    "    OverallQual: int\n",
    "    GrLivArea: float\n",
    "    GarageCars: int\n",
    "    TotalBsmtSF: float\n",
    "    FullBath: int\n",
    "    YearBuilt: int\n",
    "\n",
    "@app.post(\"/predict\")\n",
    "def predict_price(features: HouseFeatures):\n",
    "    try:\n",
    "        feature_list = [\n",
    "            features.OverallQual,\n",
    "            features.GrLivArea,\n",
    "            features.GarageCars,\n",
    "            features.TotalBsmtSF,\n",
    "            features.FullBath,\n",
    "            features.YearBuilt\n",
    "        ]\n",
    "        predicted_price = predictor.predict(feature_list)\n",
    "        return {\"predicted_price\": predicted_price}\n",
    "    except Exception as e:\n",
    "        raise HTTPException(status_code=400, detail=str(e))\n",
    "\n",
    "# Run the FastAPI application\n",
    "uvicorn.run(app, host=\"127.0.0.1\", port=8010)\n"
   ]
  }
 ],
 "metadata": {
  "kernelspec": {
   "display_name": "Python 3",
   "language": "python",
   "name": "python3"
  },
  "language_info": {
   "codemirror_mode": {
    "name": "ipython",
    "version": 3
   },
   "file_extension": ".py",
   "mimetype": "text/x-python",
   "name": "python",
   "nbconvert_exporter": "python",
   "pygments_lexer": "ipython3",
   "version": "3.12.3"
  }
 },
 "nbformat": 4,
 "nbformat_minor": 2
}
