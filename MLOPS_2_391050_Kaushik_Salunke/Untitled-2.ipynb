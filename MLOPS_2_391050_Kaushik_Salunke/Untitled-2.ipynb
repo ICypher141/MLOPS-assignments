{
 "cells": [
  {
   "cell_type": "code",
   "execution_count": 2,
   "metadata": {},
   "outputs": [
    {
     "name": "stdout",
     "output_type": "stream",
     "text": [
      "Predicted Price: 229915.67515246035\n"
     ]
    }
   ],
   "source": [
    "import requests\n",
    "\n",
    "# Define the URL of the FastAPI endpoint\n",
    "url = \"http://127.0.0.1:8010/predict\"\n",
    "\n",
    "# Define the house features you want to send in the request\n",
    "house_features = {\n",
    "    \"OverallQual\": 7,\n",
    "    \"GrLivArea\": 2000,\n",
    "    \"GarageCars\": 2,\n",
    "    \"TotalBsmtSF\": 800,\n",
    "    \"FullBath\": 2,\n",
    "    \"YearBuilt\": 2003\n",
    "}\n",
    "\n",
    "# Send a POST request to the FastAPI endpoint with the house features as JSON\n",
    "response = requests.post(url, json=house_features)\n",
    "\n",
    "# Print the response from the server\n",
    "if response.status_code == 200:\n",
    "    print(\"Predicted Price:\", response.json()[\"predicted_price\"])\n",
    "else:\n",
    "    print(\"Error:\", response.status_code, response.text)\n"
   ]
  }
 ],
 "metadata": {
  "kernelspec": {
   "display_name": "Python 3",
   "language": "python",
   "name": "python3"
  },
  "language_info": {
   "codemirror_mode": {
    "name": "ipython",
    "version": 3
   },
   "file_extension": ".py",
   "mimetype": "text/x-python",
   "name": "python",
   "nbconvert_exporter": "python",
   "pygments_lexer": "ipython3",
   "version": "3.12.3"
  }
 },
 "nbformat": 4,
 "nbformat_minor": 2
}
